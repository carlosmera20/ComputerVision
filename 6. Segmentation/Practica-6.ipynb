{
 "cells": [
  {
   "cell_type": "markdown",
   "metadata": {},
   "source": [
    "![Curso de Visión Artificial](imagenes/encabezado.png)\n",
    "\n",
    "\n"
   ]
  },
  {
   "cell_type": "markdown",
   "metadata": {},
   "source": [
    "# Métodos de Segmentación\n",
    "\n",
    "En Visión Artificial la segmentación consiste en el proceso de dividir una imagen en partes o grupos de píxeles que representan los diferentes objetos en la escena. En este sentido, la segmentación busca simplificar la representación de la imagen para facilitar su análisis. \n",
    "\n",
    "En general, los algoritmos de segmentación o bien buscan las discontinuidades en la imagen (representadas por puntos, líneas o bordes) o agrupan los píxeles que tienen cierta similitud. \n",
    "\n",
    "Veamos como usar diferentes métodos de segmentacióna en `Skimage`."
   ]
  },
  {
   "cell_type": "code",
   "execution_count": null,
   "metadata": {
    "collapsed": true
   },
   "outputs": [],
   "source": [
    "# Siempre que usemos matplotlib en Jupyter es necesario poner esta línea antes de cualquier otra\n",
    "%matplotlib inline\n",
    "\n",
    "# Importamos las bibliotecas necesarias y les asigamos un alias\n",
    "import skimage                           # Biblioteca para la manipulación de imágenes\n",
    "import numpy as np                       # Biblioteca para la manipulación de matrices\n",
    "\n",
    "# Importamos algunos paquetes específicos\n",
    "from matplotlib import pyplot as plt     # Biblioteca para crear graficas y mostrar las imágenes en pantalla\n",
    "\n",
    "from skimage import data                 # Paquete con imágenes de prueba\n",
    "from skimage import io                   # Paquete para lectura/escritura de imágenes\n",
    "from skimage import color                # Paquete con las operaciones de transformaciones entre espacios de color\n",
    "from skimage import exposure             # Paquete con las funciones para calcular y alterar el histograma\n",
    "from skimage import filters              # Paquete que contiene las máscaras y filtros de suavizado y realzado\n",
    "from skimage import util                 # Paquete que contiene las funciones para cambiar el tipo de dato de las imágenes\n",
    "\n",
    "from scipy import ndimage                # Usamos esta biblioteca para realizar la operación de convolución\n",
    "\n",
    "import skdemo                            # Paquete ESPECIAL ADJUNTO con algunas funciones extra de visualización\n",
    "\n",
    "##################\n",
    "\n",
    "from skimage import morphology           # Para crear el kernel de convolución en los filtros no lienales\n",
    "from skimage import transform            # Esta biblioteca es la que contiene la implementación de Hough\n",
    "from skimage import measure              # Esta biblioteca contiene el método de etiquetado de regiones\n",
    "from skimage import feature              # Esta biblioteca es la que contiene la implementación del canny\n",
    "\n",
    "# Con este nos aseguramos que las imagenes en niveles de gris, se vean como tal siempre.\n",
    "plt.rcParams['image.cmap'] = 'gray'\n",
    "plt.rcParams['image.interpolation'] = 'none'\n"
   ]
  },
  {
   "cell_type": "markdown",
   "metadata": {},
   "source": [
    "## Segmentación por Umbral Simple\n",
    "\n",
    "Este es el tipo de segmentación más simple y consiste en utilizar el histograma para determinar el nivel de intensidad que permite separar a los objetos del fondo de la imagen.\n"
   ]
  },
  {
   "cell_type": "code",
   "execution_count": null,
   "metadata": {},
   "outputs": [],
   "source": [
    "# Cargamos la imagen de prueba\n",
    "img_1 = io.imread('imagenes/rice.png')\n",
    "\n",
    "img_1 = color.rgb2gray(img_1)\n",
    "      \n",
    "# Visualizamos la imagen de prueba y su histograma\n",
    "skdemo.imshow_with_histogram(img_1)\n",
    "\n",
    "img_1.shape"
   ]
  },
  {
   "cell_type": "markdown",
   "metadata": {},
   "source": [
    "Al analizar el histograma se puede observar que los objetos de interés, cuyo color predominante es muy claro, tienen valores por encima del valor 125. Ese valor es el que se utilza como umbral.\n",
    "\n",
    "En Python, cuando se usa NumPy, el proceso de umbralización es muy simple:"
   ]
  },
  {
   "cell_type": "code",
   "execution_count": null,
   "metadata": {},
   "outputs": [],
   "source": [
    "# La umbralización consiste en simplmente comparar los píxeles de la imagen con el valor definido\n",
    "img_BW = img_1 >= 125\n",
    "\n",
    "plt.imshow(img_BW)"
   ]
  },
  {
   "cell_type": "markdown",
   "metadata": {},
   "source": [
    "Note que a pesar de que los objetos son más claros que el fondo de la imagen, este método no funciona muy bien con la imagen de los arroces. Esto sucede porque la iluminación en la imagen es no homogenea. Cuando esto sucede al aumentar el valor del umbral podemos perder objetos. Por el contrario, si disminuímos el umbral aparecerán todos los objetos pero también aparecerán objetos no deseados del fondo (ruido).\n",
    "\n",
    "Analicemos ahora la imagen de las monedas:\n"
   ]
  },
  {
   "cell_type": "code",
   "execution_count": null,
   "metadata": {},
   "outputs": [],
   "source": [
    "# Cargamos la imagen de prueba\n",
    "img_2 = data.coins()\n",
    "      \n",
    "# Visualizamos la imagen de prueba y su histograma\n",
    "skdemo.imshow_with_histogram(img_2)\n",
    "\n",
    "# La umbralización consiste en simplmente comparar los píxeles de la imagen con el valor definido\n",
    "img_BW = img_2 >= 128\n",
    "\n",
    "plt.figure()\n",
    "plt.imshow(img_BW)"
   ]
  },
  {
   "cell_type": "markdown",
   "metadata": {},
   "source": [
    "Apesar de que las monedas parecieran ser más claras que el fondo, el histograma nos muestra que estás no tienen un nivel de intensidad que nos permitan separarlas fácilmente del fondo.\n",
    "\n",
    "En este caso el uso de un método de umbralización simple no es adecuado."
   ]
  },
  {
   "cell_type": "markdown",
   "metadata": {},
   "source": [
    "## Segmentación por Umbral Adaptativo\n",
    "\n",
    "Los métodos de umbralización adaptativos calculan de manera automática el umbral de acuerdo a la información contenida en la imagen. En consecuencia, cuando se tienen ambientes con condiciones de iluminación no adecuadas el umbral adaptativo obtiene mejores resultados que un método de umbralización simple. Existen diferentes métodos de umbralización de este tipo, entre ellos:\n",
    "\n",
    "* Método Adaptativo Local\n",
    "* método ISODATA\n",
    "* Método Otsu\n",
    "* Método de Yen\n",
    "* Método de Li (basado en entreopía)\n",
    "\n",
    "Veamos como usar los tres primeros y veamos los resultados en ambas imágenes:\n"
   ]
  },
  {
   "cell_type": "code",
   "execution_count": null,
   "metadata": {},
   "outputs": [],
   "source": [
    "# Método Adaptativo\n",
    "\n",
    "# Revise la documentación a fin de que conozca los parámetros de la función\n",
    "t1 = filters.threshold_local(img_1, 15, 'mean')\n",
    "t2 = filters.threshold_local(img_2, 81, 'gaussian')\n",
    "\n",
    "img_BW_1 = img_1 > t1\n",
    "img_BW_2 = img_2 > t2\n",
    "\n",
    "skdemo.imshow_all(img_BW_1, img_BW_2, titles=[\"Arroz umbral Adaptativo - Mean\", \"Coins umbral Adaptativo - Mean\"])\n"
   ]
  },
  {
   "cell_type": "code",
   "execution_count": null,
   "metadata": {},
   "outputs": [],
   "source": [
    "# Método ISODATA\n",
    "\n",
    "# Revise la documentación a fin de que conozca los parámetros de la función\n",
    "t1 = filters.threshold_isodata(img_1)\n",
    "t2 = filters.threshold_isodata(img_2);\n",
    "\n",
    "img_BW_1 = img_1 > t1;\n",
    "img_BW_2 = img_2 > t2;\n",
    "\n",
    "skdemo.imshow_all(img_BW_1, img_BW_2, titles=[\"Arroz umbral isodata\", \"Coins umbral isodata\"])\n"
   ]
  },
  {
   "cell_type": "code",
   "execution_count": null,
   "metadata": {},
   "outputs": [],
   "source": [
    "# Método otsu\n",
    "\n",
    "# Revise la documentación a fin de que conozca los parámetros de la función\n",
    "t1 = filters.threshold_yen(img_1)\n",
    "t2 = filters.threshold_yen(img_2)\n",
    "\n",
    "img_BW_1 = img_1 > t1;\n",
    "img_BW_2 = img_2 > t2;\n",
    "\n",
    "skdemo.imshow_all(img_BW_1, img_BW_2, titles=[\"Arroz umbral Yen\", \"Coins umbral Yen\"])\n"
   ]
  },
  {
   "cell_type": "markdown",
   "metadata": {},
   "source": [
    "Para efectos prácticos skiimage tiene una función que nos permite comparar los resultados de diferentes métodos de umbralización: isodata, li, mean, minimum, otsu, triangle, yen\n",
    "    "
   ]
  },
  {
   "cell_type": "code",
   "execution_count": null,
   "metadata": {},
   "outputs": [],
   "source": [
    "fig, ax = filters.try_all_threshold(img_1, figsize=(20, 20), verbose=False)"
   ]
  },
  {
   "cell_type": "markdown",
   "metadata": {},
   "source": [
    "## Métodos de Extracción de Bordes\n",
    "\n",
    "Como se explicó en la clase, estos métodos usan máscaras de convolución para obtener los bordes horizontales y verticales de una imagen, siendo las máscaras más usadas: Sobel, Prewitt y Roberts.\n",
    "\n",
    "Veamos como usarlas: \n"
   ]
  },
  {
   "cell_type": "code",
   "execution_count": null,
   "metadata": {
    "collapsed": true
   },
   "outputs": [],
   "source": [
    "# Filtro Sobel\n",
    "gradiente = filters.sobel(img_1)\n",
    "skdemo.imshow_all(img_1, gradiente)\n"
   ]
  },
  {
   "cell_type": "markdown",
   "metadata": {},
   "source": [
    "Note que esta función integra tanto los bordes verticales como horizontales (calculando el gradiente), no obstante el resultado es una imagen en escala de grises que, específicamente, nos indica la probabilidad de que un píxel esté en el borde de un objeto. No obstante, para obtener los bordes de los objetos (imagen binaria) debemos umbralizar el gradiente. Por ejemplo:\n"
   ]
  },
  {
   "cell_type": "code",
   "execution_count": null,
   "metadata": {
    "collapsed": true
   },
   "outputs": [],
   "source": [
    "# Obtenga los bordes con un gradiente maypr a 0.1\n",
    "img_bordes = gradiente > 0.1\n",
    "\n",
    "skdemo.imshow_all(img_1, img_bordes)"
   ]
  },
  {
   "cell_type": "markdown",
   "metadata": {},
   "source": [
    "Observe que este enfoque no es muy bueno ya que a pesar de que se obtienen los bordes de los objetos estos pueden contener ruido y además pueden ser gruesosm, cuando estos deben ser delgados y conectados.\n",
    "\n",
    "Probemos las otras máscaras con la imagen de las monedas."
   ]
  },
  {
   "cell_type": "code",
   "execution_count": null,
   "metadata": {
    "collapsed": true
   },
   "outputs": [],
   "source": [
    "# Filtro Sobel\n",
    "g_sobel = filters.sobel(img_2)\n",
    "g_scharr = filters.scharr(img_2)\n",
    "g_prewitt = filters.prewitt(img_2)\n",
    "g_roberts = filters.roberts(img_2)\n",
    "\n",
    "#Muestra solo los pixeles en los que el gradiente es mayor a 0.1\n",
    "skdemo.imshow_all(grad_s > 0.1, g_scharr > 0.1, titles=[\"Sobel\", \"Scharr\"])\n",
    "skdemo.imshow_all(g_prewitt > 0.1, g_roberts > 0.1, titles=[\"Prewitt\", \"Roberts\"])\n"
   ]
  },
  {
   "cell_type": "markdown",
   "metadata": {},
   "source": [
    "\n",
    "## Detector de Bordes Canny\n",
    "\n",
    "Canny es un detector de bordes que utiliza un filtro basado en la derivada de una gaussiana para calcular la intensidad de los gradientes. Es decir, se empeiza aplicando un filtro gaussiano que reduce el efecto del ruido presente en la imagen. Luego, se encuentran los posibles bordes en la imagen usando un filtro sobel, después los bordes potenciales se reducen a curvas de 1 píxel, eliminando aquellos píxeles que no tienen un máximo en la magnitud del gradiente (resultado del filtro sobel). Finalmente, los píxeles del borde se mantienen o se eliminan utilizando la histéresis.\n",
    "\n",
    "En Skimage, Canny tiene tres parámetros ajustables: el desviación estándar del filtro gaussiano (cuanto más ruidosa es la imagen, mayor debe ser este parámetro), y el umbral minimo y máximo para la histéresis.\n",
    "\n",
    "Veamos como usar el detector de bordes Canny:"
   ]
  },
  {
   "cell_type": "code",
   "execution_count": null,
   "metadata": {
    "collapsed": true
   },
   "outputs": [],
   "source": [
    "# Cargamos la imagen en escala de grises\n",
    "img_3 = skimage.img_as_float(io.imread(\"imagenes/bicho.jpg\"))\n",
    "img_3 = color.rgb2gray(img_3)\n",
    "\n",
    "# Aplicamos el detector de bordes Canny\n",
    "# Revise la documentación para tener más información sobre los parámetros\n",
    "img_3_bordes = feature.canny(img_3, sigma=1, low_threshold=0.2, high_threshold=0.5)\n",
    "\n",
    "skdemo.imshow_all(img_3, img_3_bordes, titles=[\"Origial\", \"Bordes Canny\"], size=8)\n"
   ]
  },
  {
   "cell_type": "markdown",
   "metadata": {
    "collapsed": true
   },
   "source": [
    "## Transformada de Hough\n",
    "\n",
    "Las transformadas de Hough son una serie de algoritmos para detectar ciertos tipos de figuras geométricas en una imagen.  Al igual que con los detectores de bordes, las transformadas de Hough producen una imagen binaria que contiene el tipo de figura geométrica particular que se busca en la imagen.\n"
   ]
  },
  {
   "cell_type": "markdown",
   "metadata": {},
   "source": [
    "### Transformada de Hought para líneas\n"
   ]
  },
  {
   "cell_type": "code",
   "execution_count": null,
   "metadata": {
    "collapsed": true
   },
   "outputs": [],
   "source": [
    "# Este tipo de transformada debe partir de una imagen con las líneas candidatas\n",
    "\n",
    "#Aplicamos la transformada de Hough para líneas sobre los bordes de la imagen 3\n",
    "lines = transform.probabilistic_hough_line(img_3_bordes, threshold=10, line_length=30, line_gap=1)\n",
    "\n",
    "fig, axes = plt.subplots(1, 2, figsize=(20,5))\n",
    "ax = axes.ravel()\n",
    "\n",
    "ax[0].imshow(img_3_bordes)\n",
    "ax[1].imshow(img_3)\n",
    "\n",
    "for line in lines:\n",
    "    p0, p1 = line\n",
    "    ax[1].plot((p0[0], p1[0]), (p0[1], p1[1]))\n",
    "ax[1].set_title('Líneas con Transformda de Hough')"
   ]
  },
  {
   "cell_type": "markdown",
   "metadata": {},
   "source": [
    "### Transformada de Hough para Círculos\n",
    "\n",
    "La transformada Hough en su forma más simple es un método para detectar líneas rectas, pero también se puede usar para detectar círculos o elipses. Este método es robusto contra el ruido o los puntos que faltan en el borde los círculos."
   ]
  },
  {
   "cell_type": "code",
   "execution_count": null,
   "metadata": {
    "collapsed": true
   },
   "outputs": [],
   "source": [
    "from skimage import draw\n",
    "\n",
    "# En este caso usamos la imagen de las monedas\n",
    "img_2_bordes = feature.canny(img_2, sigma=3, low_threshold=10, high_threshold=50)\n",
    "\n",
    "# Detecte círculos de diferentes radios radios\n",
    "hough_radii = np.arange(10, 40, 2)\n",
    "hough_res = transform.hough_circle(img_2_bordes, hough_radii)\n",
    "\n",
    "# Seleccione the 24 círculos más prominentes\n",
    "accums, cx, cy, radii = transform.hough_circle_peaks(hough_res, hough_radii, total_num_peaks=40)\n",
    "\n",
    "# Se pintan los círculos en la imagen\n",
    "image = color.gray2rgb(img_2)\n",
    "for center_y, center_x, radius in zip(cy, cx, radii):\n",
    "    circy, circx = draw.circle_perimeter(center_y, center_x, radius)\n",
    "    image[circy, circx] = (220, 20, 20)\n",
    "\n",
    "skdemo.imshow_all(img_2_bordes, image, size=8)"
   ]
  },
  {
   "cell_type": "markdown",
   "metadata": {},
   "source": [
    "## Métodos de Segmentación basados en Regiones\n",
    "\n",
    "Una región consiste en una parte de la imagen que satisface un cierto criterio de uniformidad. Así, la segmentación por regiones considera que cada región se forma a partir de píxeles considerados semillas  y  evoluciona,  mediante  un \n",
    "algoritmo recursivo, incorporando aquellos píxeles vecinos que satisfacen una condición establecida. Comúnmente, los criterios utilizados se refieren a propiedades de proximidad y homogeneidad. El proceso de segmentación finaliza cuando \n",
    "no se encuentran más píxeles que cumplan la condición especificada.\n",
    "\n",
    "Como vimos en clase, existen diferentes métodos de segmentación basada en regiones, a continuación, vamos a usar algunos de ellos usando Skimage.\n"
   ]
  },
  {
   "cell_type": "markdown",
   "metadata": {},
   "source": [
    "### Segmentación por Watershed\n",
    "\n",
    "El nombre de watershed proviene de una analogía con la hidrología. El uso de este método de segmentación consiste en \"inundar\" una imagen para determinar los puntos en los que se unen las cuencas, las cuales se determinan a partir de ciertos marcadores. Las líneas que separan las cuencas hidrográficas corresponden a la segmentación de la imagen.\n",
    "\n",
    "En este sentido, el mapa de elevación incial es fundamental para una buena segmentación. Por ejemplo, para el problema de las monedas, la amplitud del gradiente proporciona un buen mapa de elevación inicial. \n",
    "\n",
    "Usamos el operador Sobel para calcular la amplitud del gradiente:"
   ]
  },
  {
   "cell_type": "code",
   "execution_count": null,
   "metadata": {
    "collapsed": true
   },
   "outputs": [],
   "source": [
    "import matplotlib.pyplot as plt\n",
    "from mpl_toolkits.mplot3d import Axes3D\n",
    "\n",
    "# Volvemos a calcular el gradiente de la imagen usando el operador sobel\n",
    "img_2_bordes = filters.sobel(img_2)\n",
    "\n",
    "# Visualizamos el mapa de elevacion, es decir el gradiente como una imagen 3D\n",
    "xx, yy = np.mgrid[0:img_2_bordes.shape[0], 0:img_2_bordes.shape[1]]\n",
    "fig = plt.figure(figsize=(15,10))\n",
    "ax = fig.gca(projection='3d')\n",
    "ax.plot_surface(xx, yy, img_2_bordes, cmap=\"jet\")\n",
    "ax.view_init(70, 10)\n",
    "ax.set_title(\"Mapa de Elevación\")\n",
    "plt.show()"
   ]
  },
  {
   "cell_type": "code",
   "execution_count": null,
   "metadata": {
    "collapsed": true
   },
   "outputs": [],
   "source": [
    "# Creamos los marcadores que serán usados para inundar el mapa de elevación\n",
    "markers = np.zeros_like(img_2)\n",
    "markers[img_2 < 30] = 1\n",
    "markers[img_2 > 150] = 2\n",
    "\n",
    "# Aplicamos el método de segmentación\n",
    "segmentation = morphology.watershed(img_2_bordes, markers)\n",
    "\n",
    "#Etiquetamos las regiones y las mostramos\n",
    "#etiqeutas = measure.label(segmentation)\n",
    "#plt.imshow(etiqeutas, cmap=\"jet\")\n",
    "plt.imshow(segmentation)\n"
   ]
  },
  {
   "cell_type": "markdown",
   "metadata": {
    "collapsed": true
   },
   "source": [
    "## Entregables de la Práctica\n",
    "\n",
    "Uno de los puntos neurálgicos en los sistemas de visión artificial es la segmentación de los objetos de interés en la imagen. Una mala selección de un método segmentación hará que las etapas de descripción y reconocimiento sean más o menos eficientes para la clasificación de los objetos. El objetivo de esta práctica es experimentar con los diferentes métodos de segmentación vistos en clase y presentados en las secciones anteriores. La idea es ANALIZAR cuál o cuáles de los métodos son los más adecuados para segmentar y contar los objetos de interés en las imágenes siguientes.\n",
    "\n",
    "* Aplique cada uno de los métodos presentados a cada imagen. Evalúe si algún canal en alguno de los espacios de color es adecuado para mejorar los resultados de la segmentación. Si el método requiere que usted fije algún parámetro, EXPLIQUE como hizo la selección del valor del mismo.\n",
    "* Para los métodos basados en derivadas use las tres máscaras posibles: Sobel, Prewitt y Roberts y compare entre los resultados obtenidos un filtro LoG y con la aplicación de un máximo entre las máscaras en X e Y de dichos filtros. Qué diferencias hay? Ha qué se deben esas diferencias?\n",
    "* Una vez seleccione el mejor método de segmentación para cada imagen, aplique el método de detección de componentes conexas (método label del paquete measure) y coloréelas (use un mapa de color, por ejemplo, el \"jet\"). Por qué no funciona en cada una de las imágenes dadas?\n",
    "* Seleccione y justifique su selección de uno de los métodos de segmentación para cada una de las imágenes.\n",
    "\n",
    "Las imagenes sobre las que se deben aplicar los métodos de segmentación son:\n",
    "* Pera\n",
    "* SemillasDacusCarota\n",
    "* U4-3\n"
   ]
  },
  {
   "cell_type": "code",
   "execution_count": null,
   "metadata": {
    "collapsed": true
   },
   "outputs": [],
   "source": [
    "# Inicie aquí el desarrollo de la práctica"
   ]
  }
 ],
 "metadata": {
  "kernelspec": {
   "display_name": "Python 3 (ipykernel)",
   "language": "python",
   "name": "python3"
  },
  "language_info": {
   "codemirror_mode": {
    "name": "ipython",
    "version": 3
   },
   "file_extension": ".py",
   "mimetype": "text/x-python",
   "name": "python",
   "nbconvert_exporter": "python",
   "pygments_lexer": "ipython3",
   "version": "3.9.7"
  }
 },
 "nbformat": 4,
 "nbformat_minor": 2
}
