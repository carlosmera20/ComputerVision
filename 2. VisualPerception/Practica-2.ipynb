{
 "cells": [
  {
   "cell_type": "markdown",
   "metadata": {},
   "source": [
    "![Curso de Visión Artificial](imagenes/encabezado.png)\n",
    "\n"
   ]
  },
  {
   "cell_type": "markdown",
   "metadata": {},
   "source": [
    "# Introducción a Scikit-Image\n",
    "\n",
    "``Scikit-image`` es un toolbox de Python que tiene implementados diferentes algoritmos para la manipulación y procesamiento de imágenes digitales. Para más información consulte:\n",
    "\n",
    "http://scikit-image.org/\n"
   ]
  },
  {
   "cell_type": "markdown",
   "metadata": {},
   "source": [
    "\n",
    "\n",
    "# Imágenes: arreglos NumPy\n",
    "\n",
    "La base de la Visión Artificial con las imágenes digitales, de ahí la importancia en que tomemos un tiempo en aprender a manipularlas.\n",
    "\n",
    "Como en otros lenguajes de programación las imágenes se representan en Python, y específicamente en ``scikit-image`` como arreglos bidimensionales de ``NumPy``. Esto facilita la interoperabilidad de `` scikit-image`` con otras bibliotecas en el ecosistema de Python, como ``matplotlib`` y ``scipy``."
   ]
  },
  {
   "cell_type": "markdown",
   "metadata": {},
   "source": [
    "Para iniciar, importamos las bibliotecas que requerimos. En este caso:\n",
    "* <span style=\"background-color:#DDDDDD; color:blue; font-family:Courier new\"> numpy:</span> es la biblioteca para la manipulación de matrices y arreglos en Python.\n",
    "* <span style=\"background-color:#DDDDDD; color:blue; font-family:Courier new\"> matplotlib:</span> es la biblioteca para la creación y manipulación de gráficos. De esta biblioteca vamos a usar solamente el paquete <span style=\"background-color:#DDDDDD; color:blue; font-family:Courier new\"> pyplot</span>.\n",
    "* <span style=\"background-color:#DDDDDD; color:blue; font-family:Courier new\"> skimage:</span> es la biblioteca para la manipulación de imágenes digitales. En este caso estamos usando el paquete <span style=\"background-color:#DDDDDD; color:blue; font-family:Courier new\"> data</span> que tiene algunas imágenes pre-cargadas que se utilizan comunmente en procesamiento de imágenes y el paquete <span style=\"background-color:#DDDDDD; color:blue; font-family:Courier new\"> io</span> que tiene las funciones para leer y escribir imágenes en disco.\n",
    "\n",
    "Ahora importemos dichas bibliotecas y paquetes en Python:"
   ]
  },
  {
   "cell_type": "code",
   "execution_count": null,
   "metadata": {},
   "outputs": [],
   "source": [
    "# Siempre que usemos matplotlib en Jupyter es necesario poner esta línea antes de cualquier otra\n",
    "%matplotlib inline\n",
    "\n",
    "# Importamos las bibliotecas necesarias y les asigamos un alias\n",
    "import skimage                           # Biblioteca para la manipulación de imágenes\n",
    "import numpy as np                       # Biblioteca para la manipulación de matrices\n",
    "\n",
    "# Importamos algunos paquetes específicos\n",
    "from matplotlib import pyplot as plt     # Biblioteca para crear graficas y mostrar las imágenes en pantalla\n",
    "from skimage import data                 # Paquete con imágenes de prueba\n",
    "from skimage import io                   # Paquete para lectura/escritura de imágenes"
   ]
  },
  {
   "cell_type": "markdown",
   "metadata": {},
   "source": [
    "Como ejemplo básico, partimos de una matriz que representa un tablero de ajedrez, como el de la práctica anterior.  Dicha matriz no es más que una imagen en blanco y negro. En este caso, el blanco está representado por el valor 255 y el negro por el valor 0."
   ]
  },
  {
   "cell_type": "code",
   "execution_count": null,
   "metadata": {},
   "outputs": [],
   "source": [
    "# Se crea el tablero de ajedrez. Note que el tipo de dato es ENTERO SIN SIGNO DE 8 BITS\n",
    "tablero = np.zeros((8, 8), dtype='uint8')\n",
    "tablero[::2, 1::2] = 255\n",
    "tablero[1::2, ::2] = 255"
   ]
  },
  {
   "cell_type": "markdown",
   "metadata": {},
   "source": [
    "Ahora procedemos a mostrar la matriz usando el comando <span style=\"background-color:#DDDDDD; color:blue; font-family:Courier new\"> print</span>: "
   ]
  },
  {
   "cell_type": "code",
   "execution_count": null,
   "metadata": {},
   "outputs": [],
   "source": [
    "# Se muestra la matriz numérica\n",
    "print (tablero)"
   ]
  },
  {
   "cell_type": "markdown",
   "metadata": {},
   "source": [
    "El comando <span style=\"background-color:#DDDDDD; color:blue; font-family:Courier new\"> print</span> nos permite ver el contenido numérico de la matriz, sin embargo para ver la matriz como una imagen usamos el comando <span style=\"background-color:#DDDDDD; color:blue; font-family:Courier new\"> plt.imshow</span>."
   ]
  },
  {
   "cell_type": "code",
   "execution_count": null,
   "metadata": {},
   "outputs": [],
   "source": [
    "# Se visualiza la imagen que representa la matriz\n",
    "plt.imshow(tablero, cmap='gray')"
   ]
  },
  {
   "cell_type": "markdown",
   "metadata": {},
   "source": [
    "<div style=\"padding:10px; border-radius:10px; border:2px solid #A43D39; background:#EEEEEE\">\n",
    "<span style=\"color:#A43D39\"><h3>**Nota:**</h3></span> observe que la función <span style=\"color:blue; font-family:Courier new\"> imshow</span> recibe un parámetro denominado ``cmap``. Este parámetro se debe usar para indicar a Python cual es la paleta de colores que debe usar para visualizar una imagen. En este caso usamos un mapa denominado ``gray`` para mostrar la imagen usando una escala de grises. </div>"
   ]
  },
  {
   "cell_type": "markdown",
   "metadata": {},
   "source": [
    "Ahora probemos con una imagen generada de manera aleatoria:\n"
   ]
  },
  {
   "cell_type": "code",
   "execution_count": null,
   "metadata": {},
   "outputs": [],
   "source": [
    "# Se genera una matriz de 500x500 con contenido aleatorio\n",
    "random_img = np.random.random([500, 500])\n",
    "\n",
    "# Se muestra la imagen usando imshow\n",
    "plt.imshow(random_img, cmap='gray')\n",
    "\n",
    "# Para efectos de visualziación agregamos el mapa de color (o la paleta de color)\n",
    "plt.colorbar();"
   ]
  },
  {
   "cell_type": "markdown",
   "metadata": {
    "collapsed": true
   },
   "source": [
    "\n",
    "\n",
    "## Los Tipos de datos de una imagen\n",
    "\n",
    "Dependiendo de la resolución en profundidad de la imagen, los tipos de datos de una imagen pueden ser los siguientes:\n",
    "\n",
    "**Tipo Lógico:**\n",
    "* <span style=\"color:green; font-family:Courier new\">boolean</span>: Es una imagen en el que cada pixel se representa usando 1 bit, por esta razón la imagen en blanco y negro, donde `Flase`= negro, `True`= blanco\n",
    "\n",
    "**Tipos Enteros:**\n",
    "* <span style=\"color:green; font-family:Courier new\">uint8</span>: Es una imagen en la que cada pixel se representa unsado 8 bits, por lo que los píxeles toman valores entre 0 y 255\n",
    "* <span style=\"color:green; font-family:Courier new\">uint16</span>: Es una imagen en la que cada pixel se representa unsado 16 bits, en este caso los píxeles toman valores entre 0 y 65535\n",
    "\n",
    "**Tipo Real:**\n",
    "* <span style=\"color:green; font-family:Courier new\">float</span>: es una imagen de 64 bits en la que los píxeles toman valores entre 0 y 1.\n",
    "\n",
    "Para las imágenes de tipo `int` y `float` el 0 representa el color negro y el máximo valor posible (255, 65535 o 1) representan el color blanco.\n"
   ]
  },
  {
   "cell_type": "markdown",
   "metadata": {},
   "source": [
    "<div style=\"padding:10px; border-radius:10px; border:2px solid #A43D39; background:#EEEEEE\">\n",
    "<span style=\"color:#A43D39\"><h3>**Nota:**</h3></span> para conocer el tipo de dato de una imagen (o una matriz) ``numpy`` usamos de la propiedad <span style=\"color:blue; font-family:Courier new\"> dtype</span>. </div>"
   ]
  },
  {
   "cell_type": "markdown",
   "metadata": {},
   "source": [
    "Veamos los tipos de datos de las dos imáenes que visualizamos anteriormente:"
   ]
  },
  {
   "cell_type": "code",
   "execution_count": null,
   "metadata": {},
   "outputs": [],
   "source": [
    "# Imagen del tablero de ajedrez\n",
    "print (\"Imagen del tablero de ajedrez: \", tablero.dtype)\n",
    "print (\"Imagen aleatoria: \", random_img.dtype)"
   ]
  },
  {
   "cell_type": "markdown",
   "metadata": {
    "collapsed": true
   },
   "source": [
    "Ahora, usemos una de las imágenes de prueba de Scikit-Image. Es aquí donde usamos el paquete <span style=\"color:blue; font-family:Courier new\"> data</span> de <span style=\"color:blue; font-family:Courier new\"> skimage</span>. Analice la información que se muestra y las funciones que usamos para mostrar dicha información."
   ]
  },
  {
   "cell_type": "code",
   "execution_count": null,
   "metadata": {},
   "outputs": [],
   "source": [
    "# Cargamos una de las imágenes predefinidas en Scikit-Image\n",
    "coins = data.coins()\n",
    "\n",
    "# Mostramos su información\n",
    "print('Tipo:', type(coins))\n",
    "print('Tipo NumPy:', coins.dtype)\n",
    "print('Dimensiones:', coins.shape)\n",
    "\n",
    "# Mostramos la imagen\n",
    "plt.imshow(coins, cmap='gray');"
   ]
  },
  {
   "cell_type": "markdown",
   "metadata": {
    "collapsed": true
   },
   "source": [
    "<div style=\"padding:10px; border-radius:10px; border:2px solid #A43D39; background:#EEEEEE\">\n",
    "<span style=\"color:#A43D39\"><h3>**Importante:**</h3></span> observe que las imágenes con las que hemos trabajado hasta el momento son imágenes en **escala de grises**. Estas son simples matrices o arreglos en 2D. No obstante, cuando trabajamos con imágenes a color, la imagen se representa como un arreglo 3D (o un cubo), tal que la tercera dimensión representa los canales de la imagen. </div>"
   ]
  },
  {
   "cell_type": "markdown",
   "metadata": {},
   "source": [
    "Usemos ahora una imagen llamada ``chelsea`` del repositorio de ``Scikit-image``. Esta imagen es a color, así que preste atención a la información de la misma."
   ]
  },
  {
   "cell_type": "code",
   "execution_count": null,
   "metadata": {},
   "outputs": [],
   "source": [
    "# Cargamos una de las imágenes predefinidas en Scikit-Image \n",
    "cat = data.chelsea()\n",
    "\n",
    "# Visualizamos la información de la imagen, incluídos el valor max y min\n",
    "print('Tipo:', type(cat))\n",
    "print('Tipo NumPy:', cat.dtype)\n",
    "print(\"Dimensiones:\", cat.shape)\n",
    "print(\"Valor min:\", cat.min())\n",
    "print(\"Valor max:\", cat.max())\n",
    "\n",
    "# Mostramos la imagen\n",
    "plt.imshow(cat);"
   ]
  },
  {
   "cell_type": "markdown",
   "metadata": {},
   "source": [
    "<div style=\"padding:10px; border-radius:10px; border:2px solid #4BACC6; background:#EEEEEE\">\n",
    "<span style=\"color:#4BACC6\" ><h3>**Para Tener en Cuenta:**</h3></span> Las imágenes pueden convertirse a diferentes tipos de datos usando las funciones que están en skimage: <span style=\"color:blue; font-family:Courier new\"> img_as_float</span>, <span style=\"color:blue; font-family:Courier new\">img_as_ubyte</span>, <span style=\"color:blue; font-family:Courier new\">img_as_uint</span>, <span style=\"color:blue; font-family:Courier new\">img_as_bool</span>, etc. <br/><br/>\n",
    "\n",
    "Esto es importante puesto que algunas funciones trabajan con unos tipos de imágenes u otros no soportan  todos los tipos de datos de imágenes. </div>"
   ]
  },
  {
   "cell_type": "code",
   "execution_count": null,
   "metadata": {},
   "outputs": [],
   "source": [
    "cat_ubyte = skimage.img_as_ubyte(cat)\n",
    "\n",
    "print('\\ncat_ubyte\\nTipo NumPy:', cat_ubyte.dtype)\n",
    "print(\"Valor min:\", cat_ubyte.min())\n",
    "print(\"Valor max:\", cat_ubyte.max())\n",
    "\n",
    "# Convierte la imagen a una representación usando float\n",
    "cat_float = skimage.img_as_float(cat)\n",
    "print('\\n\\ncat_float\\nTipo NumPy:', cat_float.dtype)\n",
    "print(\"Valor min:\", cat_float.min())\n",
    "print(\"Valor max:\", cat_float.max())"
   ]
  },
  {
   "cell_type": "markdown",
   "metadata": {},
   "source": [
    "¿Cuál es la diferencia entre usar el comando <span style=\"color:blue; font-family:Courier new\">img_as_ubyte</span> y el comando <span style=\"color:blue; font-family:Courier new\">img_as_uint</span>?"
   ]
  },
  {
   "cell_type": "markdown",
   "metadata": {
    "collapsed": true
   },
   "source": [
    "<div style=\"padding:10px; border-radius:10px; border:2px solid #4BACC6; background:#EEEEEE\">\n",
    "<span style=\"color:#4BACC6\"><h3>**Para Tener en Cuenta:**</h3></span> Como una imagen no es más que una matriz o un arreglo de matrices tipo ``NumPy``, es importante que usted sepa que puede aplicar a una imagen cualquier operación disponible en la biblioteca de `NumPy`.</div>"
   ]
  },
  {
   "cell_type": "markdown",
   "metadata": {},
   "source": [
    "## Accediendo a los pixeles de la imagen"
   ]
  },
  {
   "cell_type": "markdown",
   "metadata": {},
   "source": [
    "Como una imagen es una matriz usted puede manipular los valores de dicha matriz para hacer cambios en la imagen. La forma de hacer esto es simplemente usando los índices de las filas y las columnas que quiere alterar. Por ejemplo, hagamos un cuadrado de color rojo en la imagen:"
   ]
  },
  {
   "cell_type": "code",
   "execution_count": null,
   "metadata": {},
   "outputs": [],
   "source": [
    "# En la imagen, de la fila 10 a la fila 110 (dimensión 0 del arreglo 3D)\n",
    "# En la imagen, de la columna 210 a la columna 310 (dimensión 1 del arreglo 3D)\n",
    "# En los 3 canales (RGB) se asigna la tripleta 255, 0, 0: máximo valor al canal rojo y mínimo valor al azul y verde\n",
    "cat[10:110, 210:310, 0] = 255  # Asigne el valor 255 a los píxeles en el canal rojo\n",
    "cat[10:110, 210:310, 1] = 0    # Asigne el valor 0 a los píxeles en el canal verde\n",
    "cat[10:110, 210:310, 2] = 0    # Asigne el valor 0 a los píxeles en el canal azul\n",
    "\n",
    "plt.imshow(cat);"
   ]
  },
  {
   "cell_type": "markdown",
   "metadata": {},
   "source": [
    "Recuerde que para una imagen a color se deben usar tres índices que en su orden son: filas, columnas y canales, así la instrucción: \n",
    "\n",
    "<span style=\"font-family:Courier new\">cat[<span style=\"color:#4BACC6\">10:110</span>, <span style=\"color:#FF4D4D\">210:310</span>, <span style=\"color:#6D00D9\">0</span>] = 255</span>\n",
    "\n",
    "Está accediendo a los píxeles tales que están:\n",
    "* Entre las <span style=\"color:#4BACC6\">filas</span> 10 y 110 (excluida esta última)\n",
    "* Entre las <span style=\"color:#FF4D4D\">columnas</span> 210  y 310 (excluida esta última)\n",
    "* En el <span style=\"color:#6D00D9\">canal</span> 0, que en el formato RGB es el canal Rojo"
   ]
  },
  {
   "cell_type": "markdown",
   "metadata": {},
   "source": [
    "\n",
    "\n",
    "## Visualizando una imagen en pantalla\n",
    "\n",
    "Como hemos visto de los ejemplos anteriores, para mostrar una imagen se usa el comando <span style=\"background-color:#DDDDDD; color:blue; font-family:Courier new\"> imshow</span> de la biblioteca de <span style=\"color:blue; font-family:Courier new\"> matplotlib</span>. Veamos una variación de este comando.\n",
    "\n"
   ]
  },
  {
   "cell_type": "code",
   "execution_count": null,
   "metadata": {},
   "outputs": [],
   "source": [
    "# Cargamos la imagen chelsea en la variable img0\n",
    "img0 = data.chelsea()\n",
    "\n",
    "# Cargamos la imagen rocket en la variable img1\n",
    "img1 = data.rocket()"
   ]
  },
  {
   "cell_type": "markdown",
   "metadata": {},
   "source": [
    "Comúnmente debemos mostrar más de una imagen en pantalla al tiempo para poderlas comparar. Para hacer esto debemos usar subplots a fin de dividir la pantalla en una grilla y mostrar en cada celda una imagen.\n",
    "\n",
    "En el ejemplo siguiente usamos la función <span style=\"background-color:#DDDDDD; color:blue; font-family:Courier new\"> subplot</span>, del paquete <span style=\"background-color:#DDDDDD; color:blue; font-family:Courier new\"> pyplot</span>, para mostrar las dos imágenes que cargamos recientemente:"
   ]
  },
  {
   "cell_type": "code",
   "execution_count": null,
   "metadata": {},
   "outputs": [],
   "source": [
    "# La función subplots divide el espacio de la figura en subfiguras\n",
    "# Los dos primeros parámetros que usamos aquí son el número de filas y columnas del subplot\n",
    "# el tercer parámetro, figsize, es un parámetro que define el tamaño relativo de los subplots\n",
    "f, ax = plt.subplots(1, 2, figsize=(20, 10))\n",
    "\n",
    "# Se muestra en el primer subplot la imagen 0, se le asigna un título y se eliminan los ejes del gráfico\n",
    "ax[0].imshow(img0)\n",
    "ax[0].set_title('Cat', fontsize=18)\n",
    "ax[0].axis('off')\n",
    "\n",
    "# Se muestra en el segundo subplot la imagen 1, se le asigna un título y se pone el nombre al eje X\n",
    "ax[1].imshow(img1)\n",
    "ax[1].set_title('Rocket', fontsize=18)\n",
    "ax[1].set_xlabel(r'Launching position $\\alpha=320$')"
   ]
  },
  {
   "cell_type": "markdown",
   "metadata": {},
   "source": [
    "<div style=\"padding:10px; border-radius:10px; border:2px solid #9BBB59;\">\n",
    "<span style=\"color:#9BBB59\"><h3>**Hazlo tu mismo!**</h3></span> \n",
    "1. Carga en una variable llamada <span style=\"background-color:#DDDDDD; color:blue; font-family:Courier new\">img2</span> la imagen coffee del repositorio de imágenes de skimage<br/>\n",
    "2. Carga en una variable llamada <span style=\"background-color:#DDDDDD; color:blue; font-family:Courier new\">img3</span> la imagen camera del repositorio de imágenes de skimage<br/>\n",
    "3. Crea un subplot para mostrar las 4 imágenes en una grilla de 2 filas y dos columnas<br/>\n",
    "4. Muestre las imágenes, eliminando los ejes de los gráficos y poniendo un título a cada una de ellas. Tenga presente que la imagen camera es en niveles de gris!\n",
    "</div>"
   ]
  },
  {
   "cell_type": "code",
   "execution_count": null,
   "metadata": {},
   "outputs": [],
   "source": [
    "# 1. Cargue la imagen coffee en la variable img2 \n",
    "\n",
    "# 2. Cargue la imagen camera en la variable img3 \n",
    "\n",
    "# 3. Cree el subplot requerido\n",
    "\n",
    "# 4a. Elimine los ejes de todos los subplots\n",
    "\n",
    "# 4b. Ponga el título a cada subplot\n",
    "\n",
    "# 4c. Muestre cada imagen en un subplot\n"
   ]
  },
  {
   "cell_type": "markdown",
   "metadata": {},
   "source": [
    "**Nota:** Para más información sobre como manejar figuras y subfiguras revise la [Documetación de Matplotlib](https://matplotlib.org/gallery/index.html#images-contours-and-fields) y [pyplot API](https://matplotlib.org/api/pyplot_summary.html)."
   ]
  },
  {
   "cell_type": "markdown",
   "metadata": {},
   "source": [
    "## Operaciones de Lectura/Escritura de Imágenes\n",
    "\n",
    "Las operaciones de lectura y escritura de imágenes son esenciales para cualquier proyecto de Visión Artificial. Esto se debe a que, en general, no usaremos las imágenes de los conjuntos de datos de ejemplo de `scikit-image` sino que podremos usar imágenes en diferentes formatos como BMP, JPEG o PNG. Las funciones del paquete <span style=\"background-color:#DDDDDD; color:blue; font-family:Courier new\"> io</span> de Scikit-image  incluyen funciones de otras bibliotecas como `imageio`, `matplotlib`, `almohada`, etc.\n"
   ]
  },
  {
   "cell_type": "markdown",
   "metadata": {},
   "source": [
    "Empecemos con lo básico, para leer una imagen de disco usamos la función <span style=\"background-color:#DDDDDD; color:blue; font-family:Courier new\"> io.imread</span>. En su expresión más simple, la función recibe la ruta en disco o la URL de la imagen que queremos leer."
   ]
  },
  {
   "cell_type": "code",
   "execution_count": null,
   "metadata": {},
   "outputs": [],
   "source": [
    "# Así de fácil se lee una imagen de disco\n",
    "img = io.imread(\"imagenes/img1.jpg\")\n",
    "\n",
    "print('Información de la Imagen:')\n",
    "print('Tipo:', type(img))\n",
    "print('Tipo de dato:', img.dtype)\n",
    "print(\"Dimensiones:\", img.shape)\n",
    "print(\"Valor min:\", img.min())\n",
    "print(\"Valor max:\", img.max())\n",
    "\n",
    "plt.imshow(img)\n",
    "plt.axis('off')"
   ]
  },
  {
   "cell_type": "markdown",
   "metadata": {},
   "source": [
    "Note que en el ejemplo anterior usamos las funciones <span style=\"background-color:#DDDDDD; color:blue; font-family:Courier new\"> max</span> y <span style=\"background-color:#DDDDDD; color:blue; font-family:Courier new\"> min</span>. Estas nos permiten conocer cuáles son los niveles de intensidad máximo y mínimo de en toda la imagen. ¿Cómo obtenemos el valor de máxima intensidad del canal rojo y el valor de mínima intensidad del canal verde?"
   ]
  },
  {
   "cell_type": "code",
   "execution_count": null,
   "metadata": {},
   "outputs": [],
   "source": [
    "# Obtenga y muestre el valor de máxima intensidad del canal rojo de la imagen img\n",
    "\n",
    "# Obtenga y muestre el valor de mínima intensidad del canal verde de la imagen img\n"
   ]
  },
  {
   "cell_type": "markdown",
   "metadata": {},
   "source": [
    "\n",
    "Una funcionalidad adicional consiste en cargar múltiples imágenes que están en un directorio. Vea cómo hacerlo en el siguiente ejemplo:\n"
   ]
  },
  {
   "cell_type": "code",
   "execution_count": null,
   "metadata": {},
   "outputs": [],
   "source": [
    "# Se leen todas las imágenes con extensión JPG\n",
    "ic = io.ImageCollection('imagenes/*.jpg')\n",
    "\n",
    "print('Type:', type(ic))\n",
    "ic.files\n",
    "\n",
    "\n",
    "print(\"Cantidad de imágene leídas: \", len(ic))\n"
   ]
  },
  {
   "cell_type": "code",
   "execution_count": null,
   "metadata": {},
   "outputs": [],
   "source": [
    "# Para mostrar la colección de imágenes requerimos un paquete para administrar lo comando del sistema operativo\n",
    "import os\n",
    "\n",
    "# Se crea el subplot. Note que son 3 columnas, pero el número de filas depende del número de imágenes\n",
    "f, axes = plt.subplots(ncols=3, nrows=len(ic) // 3, figsize=(20,15))\n",
    "\n",
    "# La función revel se usa para aplanar el arreglo y tratarlo como un arreglo 1D. Esto facilita el uso de ciclos\n",
    "axes = axes.ravel()\n",
    "\n",
    "# Se eliminan los ejes de cada subplot\n",
    "for ax in axes:\n",
    "    ax.axis('off')\n",
    "\n",
    "# Se muestra cada imagen y se le agrega un título\n",
    "for i,image in enumerate(ic):\n",
    "    axes[i].imshow(image, cmap='gray')\n",
    "    axes[i].set_title(os.path.basename(ic.files[i]))\n"
   ]
  },
  {
   "cell_type": "markdown",
   "metadata": {
    "collapsed": true
   },
   "source": [
    "Además de leer una imagen, en los proyectos de visión también se hace necesario almacenar una imagen que es el resultado de una operación. Para ello usamos el comando <span style=\"background-color:#DDDDDD; color:blue; font-family:Courier new\"> io.imsave</span>, tal como lo hacemos a contionuación:"
   ]
  },
  {
   "cell_type": "code",
   "execution_count": null,
   "metadata": {},
   "outputs": [],
   "source": [
    "# Modificamos la imagen en la variable img\n",
    "# La modificación consiste en dibujar un cuadro verde 100x100 en el centro de la imagen\n",
    "w,h,c = img.shape\n",
    "\n",
    "img[w//2-50:w//2+50, h//2-50:h//2+50, :] = [0, 255, 0]\n",
    "\n",
    "plt.imshow(img)\n",
    "plt.axis('off')\n",
    "\n",
    "io.imsave('imagenes/img1_modificada.jpg', img)\n"
   ]
  },
  {
   "cell_type": "markdown",
   "metadata": {},
   "source": [
    "# Entregables de la Práctica\n"
   ]
  },
  {
   "cell_type": "markdown",
   "metadata": {},
   "source": [
    "### Ejercicio 1. Convirtiendo una imagen a niveles de gris\n",
    "\n",
    "Defina una función que tome como entrada una imagen RGB o RGBA y retorne una versión en niveles de gris de dicha imagen. \n",
    "La imagen de salida debe ser del mismo tipo de la imagen de entrada, además, si la imagen que se recibe como parámetro de entrada es una imagen de un solo canal, la función debe retornar la imagen original.\n",
    "\n",
    "Para la conversión debe usar la siguiente función:\n",
    "\n",
    "<span style=\"font-family:Courier new; text-align:center\">Y = 0.2125*R + 0.7154*G + 0.0721*B</span>\n",
    "\n",
    "Comience con la siguiente plantilla:"
   ]
  },
  {
   "cell_type": "code",
   "execution_count": null,
   "metadata": {},
   "outputs": [],
   "source": [
    "# Función que convierte a niveles de gris una imagen.\n",
    "def rgb2gray(img):\n",
    "    \n",
    "    # Obtiene las dimensiones de la imagen\n",
    "    d = img.shape\n",
    "    \n",
    "    # Genera la imagen incial de salida\n",
    "    Y = np.zeros((d[0], d[1]), dtype = img.dtype)\n",
    "    \n",
    "    # De acuerdo al número de canales de la imagen haga\n",
    "    if len(d) <= 2: \n",
    "        # Implemente su código aquí\n",
    "    else:\n",
    "        # Implemente su código aquí\n",
    "    \n",
    "    return Y \n",
    "\n"
   ]
  },
  {
   "cell_type": "markdown",
   "metadata": {},
   "source": [
    "Pruebe la función usando las imágenes <span style=\"font-family:Courier new;\">img7.jpg</span> e <span style=\"font-family:Courier new;\">img3.png</span>"
   ]
  },
  {
   "cell_type": "code",
   "execution_count": null,
   "metadata": {},
   "outputs": [],
   "source": [
    "# Cargue la imagen img7.jpg de la carpeta imagenes de esta práctica\n",
    "img7 = ...\n",
    "\n",
    "# Se invoca la función recientemente implementada\n",
    "out_img7 = rgb2gray(img7)\n",
    "\n",
    "# Muestre la imagen de salida\n"
   ]
  },
  {
   "cell_type": "code",
   "execution_count": null,
   "metadata": {},
   "outputs": [],
   "source": [
    "# Cargue la imagen img3.png de la carpeta imagenes de esta práctica\n",
    "img3 = ...\n",
    "\n",
    "# Se invoca la función recientemente implementada\n",
    "out_img3 = rgb2gray(img3)\n",
    "\n",
    "# Muestre la imagen de salida\n"
   ]
  },
  {
   "cell_type": "code",
   "execution_count": null,
   "metadata": {},
   "outputs": [],
   "source": [
    "# Cargue la imagen img4.jpg de la carpeta imagenes de esta práctica\n",
    "img4 = ...\n",
    "\n",
    "# Se invoca la función recientemente implementada\n",
    "out_img4 = rgb2gray(img4)\n",
    "\n",
    "# Muestre la imagen de salida\n"
   ]
  },
  {
   "cell_type": "markdown",
   "metadata": {},
   "source": [
    "### Ejercicio 2. Descomponiendo una imagen a color en sus canales\n",
    "\n",
    "Desrrolle una función que permita visualizar una imagen a color, así como cada uno de sus canales RGB. La función debe recibir como parámetro una imagen y retornar los tres canales RGB.\n",
    "\n",
    "Un ejemplo de como debe mostrar las imágenes la función se da a continuación.\n",
    "\n",
    "\n"
   ]
  },
  {
   "cell_type": "code",
   "execution_count": null,
   "metadata": {},
   "outputs": [],
   "source": [
    "# Función que muestra una imagen a color y sus canales RGB.\n",
    "def displayRGB(img):\n",
    "    \n",
    "    # Obtiene las dimensiones de la imagen\n",
    "    d = img.shape\n",
    "    \n",
    "    # De acuerdo al número de canales de la imagen haga\n",
    "    if len(d) == 2: \n",
    "        # ¿Qué hacer si la imagen es en niveles de gris?\n",
    "        r = ...\n",
    "        g = ...\n",
    "        b = ...\n",
    "    else:\n",
    "        # Separe cada canal de la imagen\n",
    "        r = ...\n",
    "        g = ...\n",
    "        b = ...\n",
    "        \n",
    "    # Muestre la imagen a color y cada uno de los canales en un subplot de 1x4\n",
    "    f, axes = plt.subplots(1, 4, figsize=(16, 5))\n",
    "\n",
    "    # Se usa la función revel para obtener todos los subplot como una lista\n",
    "    axes = axes.ravel()\n",
    "\n",
    "    # Se eliminan los ejes de cada subplot\n",
    "    for ax in axes:\n",
    "        ax.axis('off')\n",
    "\n",
    "    # Se muestra cada imagen y se le agrega un título\n",
    "    # Recuerde que axes es ahora un arreglo de subplots\n",
    "    ...    \n",
    "    \n",
    "    return r, g, b"
   ]
  },
  {
   "cell_type": "markdown",
   "metadata": {},
   "source": [
    "Pruebe la función usando la imagen <span style=\"font-family:Courier new;\">img3.png</span> y la imagen <span style=\"font-family:Courier new;\">img4.jpg</span>."
   ]
  },
  {
   "cell_type": "code",
   "execution_count": null,
   "metadata": {},
   "outputs": [],
   "source": [
    "# Cargue la imagen img3.png de la carpeta imagenes de esta práctica\n",
    "img3 = ...\n",
    "\n",
    "\n",
    "# Se invoca la función recientemente implementada\n",
    "r,g,b = displayRGB(img3)\n",
    "\n",
    "\n",
    "# Cargue la imagen img4.jpg de la carpeta imagenes de esta práctica\n",
    "img4 = ...\n",
    "\n",
    "\n",
    "# Se invoca la función recientemente implementada\n",
    "r,g,b = displayRGB(img4)"
   ]
  },
  {
   "cell_type": "markdown",
   "metadata": {},
   "source": [
    "### Ejercicio 3. Componer una imagen a color a partir de imagenes en niveles de gris\n",
    "\n",
    "Dadas las tres imágenes en niveles de gris de abajo, combinelas para formar una imagen a color. Muestre dicha imagen."
   ]
  },
  {
   "cell_type": "code",
   "execution_count": null,
   "metadata": {},
   "outputs": [],
   "source": [
    "from skimage import draw\n",
    "\n",
    "# Se crean las tres imágenes con ceros\n",
    "R = np.zeros((300, 300))\n",
    "G = np.zeros((300, 300))\n",
    "B = np.zeros((300, 300))\n",
    "\n",
    "# Se dibujan los círculos en las tres imágenes\n",
    "r, c = draw.circle(100, 100, 100)\n",
    "R[r, c] = 1\n",
    "\n",
    "r, c = draw.circle(100, 200, 100)\n",
    "G[r, c] = 1\n",
    "\n",
    "r, c = draw.circle(200, 150, 100)\n",
    "B[r, c] = 1\n",
    "\n",
    "# Se muestran las tres imágenes en un subplot\n",
    "f, axes = plt.subplots(1, 3)\n",
    "for (ax, channel) in zip(axes, [R, G, B]):\n",
    "    ax.imshow(channel, cmap='gray')\n",
    "    ax.axis('off')"
   ]
  },
  {
   "cell_type": "code",
   "execution_count": null,
   "metadata": {},
   "outputs": [],
   "source": [
    "# Cree una matriz de ceros de tamaño 300x300 con 3 canales\n",
    "rgb = ...\n",
    "\n",
    "# Asigne a cada canal de la matriz anterior las variables R, G y B respectivamente\n",
    "...\n",
    "...\n",
    "...\n",
    "\n",
    "\n",
    "# Muestre la imagen creada\n",
    "plt.imshow(rgb)"
   ]
  },
  {
   "cell_type": "markdown",
   "metadata": {},
   "source": [
    "### Ejercicio 4. Manipulando los píxeles de una imagen\n",
    "\n",
    "Desarrolle una función que dada una imagen a color retorne una imagen en el que en cada cuadrante se pinte con la información de cada uno de los canales RGB. El cuato cuadrante se debe manetener con la información a color de la imagen.\n",
    "\n",
    "Como ejemplo, la imagen a continuación muestra la imagen de entrada y lo que se espera que sea la imagen de salida.\n",
    "\n",
    "![Imagen_Ejercicio_4](imagenes/Ejercicio4.png)\n"
   ]
  },
  {
   "cell_type": "code",
   "execution_count": null,
   "metadata": {},
   "outputs": [],
   "source": [
    "# Función que muestra una imagen a color y sus canales RGB.\n",
    "def composeRGB(img):\n",
    "    \n",
    "    # Se crea la imagen de salida\n",
    "    out = img.copy()\n",
    "    \n",
    "    # Implemente su código aquí\n",
    "    \n",
    "    return out"
   ]
  },
  {
   "cell_type": "markdown",
   "metadata": {},
   "source": [
    "Pruebe la función usando la imagen <span style=\"font-family:Courier new;\">img5.jpg</span>.\n"
   ]
  },
  {
   "cell_type": "code",
   "execution_count": null,
   "metadata": {},
   "outputs": [],
   "source": [
    "# Cargue la imagen img5.jpg de la carpeta imagenes de esta práctica\n",
    "img5 = ...\n",
    "\n",
    "# Se invoca la función recientemente implementada\n",
    "out_img5 = composeRGB(img5)\n",
    "\n",
    "# Muestre la imagen de salida\n",
    "\n",
    "\n",
    "# Almacene en el disco la imagen en disco\n",
    "\n"
   ]
  }
 ],
 "metadata": {
  "kernelspec": {
   "display_name": "Python 3 (ipykernel)",
   "language": "python",
   "name": "python3"
  },
  "language_info": {
   "codemirror_mode": {
    "name": "ipython",
    "version": 3
   },
   "file_extension": ".py",
   "mimetype": "text/x-python",
   "name": "python",
   "nbconvert_exporter": "python",
   "pygments_lexer": "ipython3",
   "version": "3.9.7"
  }
 },
 "nbformat": 4,
 "nbformat_minor": 2
}
